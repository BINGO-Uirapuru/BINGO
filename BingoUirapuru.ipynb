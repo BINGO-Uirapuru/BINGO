{
 "cells": [
  {
   "cell_type": "markdown",
   "metadata": {},
   "source": [
    "# <font color=#0000ff><center> BINGO Uirapuru <center></font>"
   ]
  },
  {
   "cell_type": "markdown",
   "metadata": {},
   "source": [
    "Neste documento estão descritos os aspectos técnico do Radiotelecópio BINGO Uirapuru. O objetivo é registrar informações que permitam o entendimento dos sistemas de recepção e análise de sinais.\n",
    "<p>\n",
    "Para mais informações sobre o Radiotelecópcio BINGO acesse https://bingotelescope.org/\n",
    "<p>\n",
    "O diagrama de Blocos do BINGO Uirapuru está representado na Figura abaixo.\n",
    "\n",
    "![title](img/UirapuruD1.png)"
   ]
  },
  {
   "cell_type": "markdown",
   "metadata": {},
   "source": [
    "A antena é a corneta, instalado ao lado do LABMET (COLOCAR POSIÇÃO GEOGRÁFICA), mostrada na figura abaixo.\n",
    "\n",
    "![title](img/FotoCorneta.png)\n",
    "\n",
    "A especificações da corneta são:\n",
    "\n",
    "COLOCAR ESPECIFICAÇÕES"
   ]
  },
  {
   "cell_type": "markdown",
   "metadata": {},
   "source": []
  }
 ],
 "metadata": {
  "kernelspec": {
   "display_name": "Python 3",
   "language": "python",
   "name": "python3"
  },
  "language_info": {
   "codemirror_mode": {
    "name": "ipython",
    "version": 3
   },
   "file_extension": ".py",
   "mimetype": "text/x-python",
   "name": "python",
   "nbconvert_exporter": "python",
   "pygments_lexer": "ipython3",
   "version": "3.7.4"
  }
 },
 "nbformat": 4,
 "nbformat_minor": 2
}
