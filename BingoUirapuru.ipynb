{
 "cells": [
  {
   "cell_type": "markdown",
   "metadata": {},
   "source": [
    "# <font color=#0000ff><center> BINGO Uirapuru <center></font>"
   ]
  },
  {
   "cell_type": "markdown",
   "metadata": {},
   "source": [
    "Neste documento estão descritos os aspectos técnico do Radiotelecópio BINGO Uirapuru. O objetivo é registrar informações que permitam o entendimento dos sistemas de recepção e análise de sinais.\n",
    "<p>\n",
    "Para mais informações sobre o Radiotelecópcio BINGO acesse https://bingotelescope.org/\n",
    "<p>\n",
    "O diagrama de Blocos do BINGO Uirapuru está representado na Figura abaixo.\n",
    "\n",
    "![title](img/UirapuruD1.png)"
   ]
  },
  {
   "cell_type": "markdown",
   "metadata": {},
   "source": [
    "A antena é a corneta, instalado ao lado do LABMET (COLOCAR POSIÇÃO GEOGRÁFICA), mostrada na figura abaixo.\n",
    "\n",
    "![title](img/FotoCorneta.png)\n",
    "\n",
    "A especificações da corneta são:\n",
    "\n",
    "COLOCAR ESPECIFICAÇÕES"
   ]
  },
  {
   "cell_type": "markdown",
   "metadata": {},
   "source": [
    "## Sensoriamento do Bingo"
   ]
  },
  {
   "cell_type": "markdown",
   "metadata": {},
   "source": [
    "MICROCONTROLADOR USADO:\n",
    "\n",
    "- ESP32\n",
    "\n",
    "SENSORES:\n",
    "\n",
    "- Umidade e temperatura"
   ]
  },
  {
   "cell_type": "markdown",
   "metadata": {},
   "source": [
    "------------------"
   ]
  },
  {
   "cell_type": "markdown",
   "metadata": {},
   "source": [
    "### ESP32"
   ]
  },
  {
   "cell_type": "markdown",
   "metadata": {},
   "source": [
    "o esp32 é um microcontrolador de baixo consumo que é que possue as tecnologias de  wifi e Bluetooth enbarcadas, permitindo assim uma maior flexibilidade de conexão."
   ]
  },
  {
   "cell_type": "markdown",
   "metadata": {},
   "source": [
    "![esp32](https://raw.githubusercontent.com/BINGO-Uirapuru/IMAGES/main/esp32.jpg)"
   ]
  },
  {
   "cell_type": "markdown",
   "metadata": {},
   "source": [
    "Para o controle do esp32 é utilizado o software IDE ARDUINO"
   ]
  },
  {
   "cell_type": "markdown",
   "metadata": {},
   "source": [
    "### IDE ARDUINO \n",
    "\n",
    "Link do site para a instalação do IDE ARDUINO: [LINK](https://www.arduino.cc/en/software)"
   ]
  },
  {
   "cell_type": "markdown",
   "metadata": {},
   "source": [
    "--------------"
   ]
  },
  {
   "cell_type": "markdown",
   "metadata": {},
   "source": [
    "## SENSOR DE UMIDADE E TEMPERATURA\n",
    "\n",
    "![sensorTemperaturaUmidade](https://raw.githubusercontent.com/BINGO-Uirapuru/IMAGES/main/Umidade.jpg)\n",
    "\n",
    "\n",
    "É um sensor capaz de obter leituras de temperatura na faixa de -40 a +80 graus Celsius, além disso é capaz de medir a umidade em uma faixa de 0% - 100%\n",
    "\n",
    "tem um pino como saída digital\n",
    "\n",
    "--------------"
   ]
  },
  {
   "cell_type": "markdown",
   "metadata": {},
   "source": [
    "## Conversor buck\n",
    "\n",
    "![conversorBuck](https://raw.githubusercontent.com/BINGO-Uirapuru/IMAGES/main/conversor_buck.jpg)"
   ]
  },
  {
   "cell_type": "markdown",
   "metadata": {},
   "source": [
    "Responsavel por baixar a tensão de entrada do circuito, ele converte a tensão DC em uma outra tensão DC.\n",
    "\n",
    "A regulação dessa tensão é feita por meio de um parafuso na parte superior do conversor"
   ]
  },
  {
   "cell_type": "markdown",
   "metadata": {},
   "source": [
    "## MODULO RELÉ 5VDC\n",
    "\n",
    "Tem a função de desligar um circuito assim que é acionado\n",
    "Ele possue algumas especificações são elas:\n",
    "\n",
    "Entrada de 5 VDC\n",
    "Sinal de baixo nivel\n",
    "\n",
    "\n",
    "----------------------------------------"
   ]
  },
  {
   "cell_type": "markdown",
   "metadata": {},
   "source": [
    "<br/>\n",
    "\n",
    "\n",
    "### LNA(Low  Noise  Amplifiers/Amplificadores de Baixo Ruído)\n",
    "\n",
    "\n",
    "\n",
    "é um anplificador de sinal que tem por função a amplicar o sinal de uma onda de baixa intensidade garantindo que uma pequena quantidade de ruido será adicionado, evitando que informações inportantes sejam muito distorcidas. O LNA é um dos primeiros receptores a captar o sinal Recebido pela antena.\n",
    "\n",
    "<br>\n",
    "\n",
    "No BINGO utilizamos os seguintes LNAs:\n",
    "\n",
    "<br>\n",
    "\n",
    "##### **Fabricante:** [Mini­-circuits](https://www.minicircuits.com/)\n",
    "\n",
    "<br>\n",
    "\n",
    "#### **Modelos Utilizados:**\n",
    "\n",
    "<br>\n",
    "\n",
    "**- ZX60­P162LN+**\n",
    "\n",
    "<BR>\n",
    "\n",
    "Tensão Nominal: **+4 VDC**\n",
    "\n",
    "Tensão Maxima(DC): **+5.5 VDC**\n",
    "\n",
    "datasheet: [Link](https://www.minicircuits.com/pdfs/ZX60-P162LN+.pdf)\n",
    "\n",
    "Dimenções: [Link](https://www.minicircuits.com/case_style/GC957.pdf)\n",
    "\n",
    "<br>\n",
    "\n",
    "![modelo1](https://raw.githubusercontent.com/BINGO-Uirapuru/IMAGES/main/modeloLNA1.png)\n",
    "\n",
    "\n",
    "\n",
    "<br>\n",
    "<br>\n",
    "<br>\n",
    "\n",
    "**- ZX60­V63+**\n",
    "\n",
    "Tensão Nominal: **+5 VDC**\n",
    "\n",
    "Tensão Maxima(DC): **+5.7 VDC**\n",
    "\n",
    "datasheet: [LINK](https://www.minicircuits.com/pdfs/ZX60-V63+.pdf)\n",
    "\n",
    "Dimenções: [Link](https://www.minicircuits.com/case_style/GC957.pdf)\n",
    "\n",
    "<br>\n",
    "<br>\n",
    "\n",
    "![modelo2](https://raw.githubusercontent.com/BINGO-Uirapuru/IMAGES/main/modeloLNA2.png)\n",
    "\n",
    "<br>\n",
    "<br/>\n",
    "\n",
    "\n",
    "##### CABEAMENTO:\n",
    "\n",
    "\n",
    "\n",
    "\n",
    "##### REFERENCIAS:\n",
    "\n",
    "- [Relatório de Estágio SupervisionadoLabMet –Laboratório de Metrologia de Campina Grande](https://drive.google.com/drive/folders/1SGSdgWdF-wL0g2p_rZvpARlNKD8cn3VJ?usp=sharing)\n",
    "\n",
    "\n",
    "\n",
    "\n",
    "\n",
    "-----------------------------------\n"
   ]
  },
  {
   "cell_type": "markdown",
   "metadata": {},
   "source": [
    "## Isolador de radiofrequência\n",
    "\n",
    "<br/>\n",
    "\n",
    "São componentes que evitam o vazamento de corrente demasiada  e a reflexão de sinal e posuem um unico sentido de funcionamento, esse tipo de comportamento permite que componentes que exigem menores niveis de corrente funcionem normalmente.\n",
    "\n",
    "Os isoladores RF utilizados no BINGO Uirapuru tem as seguintes especificações:\n",
    "\n",
    "##### FABRICANTE: **[uiy](https://www.uiy.com/)**\n",
    "\n",
    "##### MODELO: UIYCC3434A960T1260SF\n",
    "\n",
    "##### Datasheet: [Link](https://www.uiy.com/Datasheet/UIYCC3434A.pdf)\n",
    "\n",
    "<br>\n",
    "\n",
    "![ISOLADORRF](https://raw.githubusercontent.com/BINGO-Uirapuru/IMAGES/main/FILTRO%20RF.jpg)\n",
    "\n",
    "\n",
    "<br>\n",
    "\n",
    "\n",
    "### Referencia:\n",
    "\n",
    "- [Isolador de sinal](https://www.directindustry.com/pt/prod/pasternack-enterprises-inc/product-18635-1299853.html#:~:text=Os%20isoladores%20de%20Pasternack%20RF,a%20carga%20e%20a%20fonte.)\n",
    "\n",
    "- [UIYCI3434A](https://www.everythingrf.com/products/rf-microwave-isolators/uiy-technology/770-142-uiyci3434a)\n",
    "\n",
    "\n",
    "\n",
    "\n",
    "--------------------------------------------\n"
   ]
  },
  {
   "cell_type": "markdown",
   "metadata": {},
   "source": [
    "## AMPLIFICADOR \n",
    "\n",
    "O que é isso?"
   ]
  },
  {
   "cell_type": "markdown",
   "metadata": {},
   "source": [
    "# ISOLADOR PERSONALIZAVEL-LINEAR\n",
    "\n",
    "- qual a função?\n",
    "- qual o principio de funcionamento?\n",
    "- material utilizado"
   ]
  },
  {
   "cell_type": "markdown",
   "metadata": {},
   "source": [
    "CORNETA BINGO IRAPURO"
   ]
  },
  {
   "cell_type": "markdown",
   "metadata": {},
   "source": []
  },
  {
   "cell_type": "markdown",
   "metadata": {},
   "source": []
  },
  {
   "cell_type": "markdown",
   "metadata": {},
   "source": []
  },
  {
   "cell_type": "markdown",
   "metadata": {},
   "source": [
    "Para o controle do esp32 é utilizado \n",
    "\n",
    "- LNA - Bruna sabe muito sobre\n",
    "- ISOLADOR\n",
    "- FILTRO"
   ]
  }
 ],
 "metadata": {
  "kernelspec": {
   "display_name": "Python 3",
   "language": "python",
   "name": "python3"
  },
  "language_info": {
   "codemirror_mode": {
    "name": "ipython",
    "version": 3
   },
   "file_extension": ".py",
   "mimetype": "text/x-python",
   "name": "python",
   "nbconvert_exporter": "python",
   "pygments_lexer": "ipython3",
   "version": "3.7.4"
  }
 },
 "nbformat": 4,
 "nbformat_minor": 2
}
