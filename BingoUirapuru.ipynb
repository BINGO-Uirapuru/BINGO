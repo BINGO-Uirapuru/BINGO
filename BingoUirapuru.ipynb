{
 "cells": [
  {
   "cell_type": "markdown",
   "metadata": {},
   "source": [
    "# <font color=#0000ff><center> BINGO Uirapuru <center></font>"
   ]
  },
  {
   "cell_type": "markdown",
   "metadata": {},
   "source": [
    "Neste documento estão descritos os aspectos técnico do Radiotelecópio BINGO Uirapuru. O objetivo é registrar informações que permitam o entendimento dos sistemas de recepção e análise de sinais.\n",
    "<p>\n",
    "Para mais informações sobre o Radiotelecópcio BINGO acesse https://bingotelescope.org/\n",
    "<p>\n",
    "O diagrama de Blocos do BINGO Uirapuru está representado na Figura abaixo.\n",
    "\n",
    "![title](img/UirapuruD1.png)"
   ]
  },
  {
   "cell_type": "markdown",
   "metadata": {},
   "source": [
    "A antena é a corneta, instalado ao lado do LABMET (COLOCAR POSIÇÃO GEOGRÁFICA), mostrada na figura abaixo.\n",
    "\n",
    "![title](img/FotoCorneta.png)\n",
    "\n",
    "A especificações da corneta são:\n",
    "\n",
    "COLOCAR ESPECIFICAÇÕES"
   ]
  },
  {
   "cell_type": "markdown",
   "metadata": {},
   "source": [
    "## Sensoriamento do Bingo"
   ]
  },
  {
   "cell_type": "markdown",
   "metadata": {},
   "source": [
    "MICROCONTROLADOR USADO:\n",
    "\n",
    "- ESP32\n",
    "\n",
    "SENSORES:\n",
    "\n",
    "- Umidade e temperatura"
   ]
  },
  {
   "cell_type": "markdown",
   "metadata": {},
   "source": [
    "------------------"
   ]
  },
  {
   "cell_type": "markdown",
   "metadata": {},
   "source": [
    "### ESP32"
   ]
  },
  {
   "cell_type": "markdown",
   "metadata": {},
   "source": [
    "o esp32 é um microcontrolador de baixo consumo que é que possue as tecnologias de  wifi e Bluetooth enbarcadas, permitindo assim uma maior flexibilidade de conexão."
   ]
  },
  {
   "cell_type": "markdown",
   "metadata": {},
   "source": [
    "![esp32](https://raw.githubusercontent.com/BINGO-Uirapuru/IMAGES/main/esp32.jpg)"
   ]
  },
  {
   "cell_type": "markdown",
   "metadata": {},
   "source": [
    "Para o controle do esp32 é utilizado o software IDE ARDUINO"
   ]
  },
  {
   "cell_type": "markdown",
   "metadata": {},
   "source": [
    "### IDE ARDUINO \n",
    "\n",
    "Link do site para a instalação do IDE ARDUINO: [LINK](https://www.arduino.cc/en/software)"
   ]
  },
  {
   "cell_type": "markdown",
   "metadata": {},
   "source": [
    "--------------"
   ]
  },
  {
   "cell_type": "markdown",
   "metadata": {},
   "source": [
    "## SENSOR DE UMIDADE E TEMPERATURA\n",
    "\n",
    "![sensorTemperaturaUmidade](https://raw.githubusercontent.com/BINGO-Uirapuru/IMAGES/main/Umidade.jpg)\n",
    "\n",
    "\n",
    "É um sensor capaz de obter leituras de temperatura na faixa de -40 a +80 graus Celsius, além disso é capaz de medir a umidade em uma faixa de 0% - 100%\n",
    "\n",
    "tem um pino como saída digital\n",
    "\n",
    "--------------"
   ]
  },
  {
   "cell_type": "markdown",
   "metadata": {},
   "source": [
    "## Conversor buck\n",
    "\n",
    "![conversorBuck](https://raw.githubusercontent.com/BINGO-Uirapuru/IMAGES/main/conversor_buck.jpg)"
   ]
  },
  {
   "cell_type": "markdown",
   "metadata": {},
   "source": [
    "Responsavel por baixar a tensão de entrada do circuito, ele converte a tensão DC em uma outra tensão DC.\n",
    "\n",
    "A regulação dessa tensão é feita por meio de um parafuso na parte superior do conversor"
   ]
  },
  {
   "cell_type": "markdown",
   "metadata": {},
   "source": [
    "## MODULO RELÉ 5VDC\n",
    "\n"
   ]
  },
  {
   "cell_type": "markdown",
   "metadata": {},
   "source": []
  },
  {
   "cell_type": "markdown",
   "metadata": {},
   "source": []
  },
  {
   "cell_type": "markdown",
   "metadata": {},
   "source": []
  },
  {
   "cell_type": "markdown",
   "metadata": {},
   "source": [
    "Para o controle do esp32 é utilizado \n",
    "\n",
    "- LNA - Bruna sabe muito sobre\n",
    "- ISOLADOR\n",
    "- FILTRO"
   ]
  }
 ],
 "metadata": {
  "kernelspec": {
   "display_name": "Python 3",
   "language": "python",
   "name": "python3"
  },
  "language_info": {
   "codemirror_mode": {
    "name": "ipython",
    "version": 3
   },
   "file_extension": ".py",
   "mimetype": "text/x-python",
   "name": "python",
   "nbconvert_exporter": "python",
   "pygments_lexer": "ipython3",
   "version": "3.7.4"
  }
 },
 "nbformat": 4,
 "nbformat_minor": 2
}
