<<<<<<< HEAD
{"cells":[{"cell_type":"markdown","metadata":{},"source":["# USRP(Universal Software Radio Peripheral)\n","\n","\n"]}],"metadata":{"language_info":{"name":"python"},"orig_nbformat":4},"nbformat":4,"nbformat_minor":2}
=======
{"cells":[{"cell_type":"code","execution_count":null,"metadata":{},"outputs":[],"source":["# USRP(UNIVERSAL SOFTWARE RADIO PERIPHERAL)\n","\n"]}],"metadata":{"language_info":{"name":"python"},"orig_nbformat":4},"nbformat":4,"nbformat_minor":2}
>>>>>>> b27057789665acb72cff1e73475d27067b7f189e
